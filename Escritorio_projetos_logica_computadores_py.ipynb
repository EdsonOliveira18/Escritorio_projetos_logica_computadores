{
  "nbformat": 4,
  "nbformat_minor": 0,
  "metadata": {
    "colab": {
      "provenance": [],
      "authorship_tag": "ABX9TyOko++tef4HrVU6KoIXgrhZ",
      "include_colab_link": true
    },
    "kernelspec": {
      "name": "python3",
      "display_name": "Python 3"
    },
    "language_info": {
      "name": "python"
    }
  },
  "cells": [
    {
      "cell_type": "markdown",
      "metadata": {
        "id": "view-in-github",
        "colab_type": "text"
      },
      "source": [
        "<a href=\"https://colab.research.google.com/github/EdsonOliveira18/Escritorio_projetos_logica_computadores/blob/main/Escritorio_projetos_logica_computadores_py.ipynb\" target=\"_parent\"><img src=\"https://colab.research.google.com/assets/colab-badge.svg\" alt=\"Open In Colab\"/></a>"
      ]
    },
    {
      "cell_type": "code",
      "execution_count": null,
      "metadata": {
        "id": "vU6njFUdiQPe"
      },
      "outputs": [],
      "source": [
        "num_meses = {\n",
        "    1: \"Janeiro\",\n",
        "    2: \"Fevereiro\",\n",
        "    3: \"Março\",\n",
        "    4: \"Abril\",\n",
        "    5: \"Maio\",\n",
        "    6: \"Junho\",\n",
        "    7: \"Julho\",\n",
        "    8: \"Agosto\",\n",
        "    9: \"Setembro\",\n",
        "    10: \"Outubro\",\n",
        "    11: \"Novembro\",\n",
        "    12: \"Dezembro\"\n",
        "}\n",
        "\n",
        "temperaturas = []\n"
      ]
    }
  ]
}